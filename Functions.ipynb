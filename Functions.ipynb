{
  "nbformat": 4,
  "nbformat_minor": 0,
  "metadata": {
    "colab": {
      "private_outputs": true,
      "provenance": []
    },
    "kernelspec": {
      "name": "python3",
      "display_name": "Python 3"
    },
    "language_info": {
      "name": "python"
    }
  },
  "cells": [
    {
      "cell_type": "code",
      "execution_count": null,
      "metadata": {
        "id": "ItkhE4lMLDm8"
      },
      "outputs": [],
      "source": []
    },
    {
      "cell_type": "code",
      "source": [
        "# Write a Python function that takes a list of numbers as input and returns the sum of all even numbers in the list.\n",
        "\n",
        "def sum_of_even_number (p):\n",
        "  l = []\n",
        "  for i in p:\n",
        "    if i % 2 == 0:\n",
        "      l.append(i)\n",
        "  return sum(l)\n",
        "\n",
        "print(sum_of_even_number([1,2,3,4,5,6]))"
      ],
      "metadata": {
        "id": "_nC2blCGbCKk"
      },
      "execution_count": null,
      "outputs": []
    },
    {
      "cell_type": "code",
      "source": [
        "#  Create a Python function that accepts a string and returns the reverse of that string\n",
        "\n",
        "def reverse_str (p):\n",
        "  return(p[::-1])\n",
        "\n",
        "print(reverse_str(\"BARKHA\"))\n",
        ""
      ],
      "metadata": {
        "id": "zk__JqESbLV_"
      },
      "execution_count": null,
      "outputs": []
    },
    {
      "cell_type": "code",
      "source": [
        "\n",
        "#  Implement a Python function that takes a list of integers and returns a new list containing the squares of each number.\n",
        "\n",
        "def sqr_list (p):\n",
        "  l = []\n",
        "  for i in p:\n",
        "    l.append(i**2)\n",
        "  return l\n",
        "\n",
        "print(sqr_list([1,2,3]))"
      ],
      "metadata": {
        "id": "ocWnf8MHbSWR"
      },
      "execution_count": null,
      "outputs": []
    },
    {
      "cell_type": "code",
      "source": [
        "# Write a Python function that checks if a given number is prime or not from 1 to 200\n",
        "\n",
        "def is_prime (n):\n",
        "  if n <= 1:\n",
        "    return False\n",
        "  for i in range(2,int(n**0.5)+1):\n",
        "    if n%i == 0:\n",
        "      return False\n",
        "  return True\n",
        "\n",
        "def prime_upto_200 ():\n",
        "  for i in range(1, 201):\n",
        "    if is_prime(i):\n",
        "      print(i, \"Is a prime\")\n",
        "    else:\n",
        "      print(i, \"Is not a prime\")\n",
        "\n",
        "prime_upto_200()"
      ],
      "metadata": {
        "id": "-0suJA0gcUuD"
      },
      "execution_count": null,
      "outputs": []
    },
    {
      "cell_type": "code",
      "source": [
        "# Create an iterator class in Python that generates the Fibonacci sequence up to a specified number of terms.\n",
        "\n",
        "class fib_iterator:\n",
        "  def __init__(self, n):\n",
        "    self.n=n\n",
        "    self.a, self.b = 0,1\n",
        "    self.count = 0\n",
        "\n",
        "  def __iter__(self):\n",
        "    return self\n",
        "\n",
        "  def __next__(self):\n",
        "    if self.count >= self.n:\n",
        "      raise StopIteration\n",
        "\n",
        "    value = self.a\n",
        "    self.a, self.b = self.b, self.a+self.b\n",
        "    self.count+=1\n",
        "    return value\n",
        "\n",
        "print(list(fib_iterator(5)))\n",
        ""
      ],
      "metadata": {
        "id": "tpr_fbs0cqIt"
      },
      "execution_count": null,
      "outputs": []
    },
    {
      "cell_type": "code",
      "source": [
        "# Write a generator function in Python that yields the powers of 2 up to a given exponent.\n",
        "\n",
        "def power_of_2(a):\n",
        "  for i in range (a+1):\n",
        "    yield 2**i\n",
        "\n",
        "print(list(power_of_2(5)))\n"
      ],
      "metadata": {
        "id": "VukiH2ghdRUy"
      },
      "execution_count": null,
      "outputs": []
    },
    {
      "cell_type": "code",
      "source": [
        "# Write a generator function in Python that yields the powers of 2 up to a given exponent.\n",
        "\n",
        "def power_of_2(a):\n",
        "  for i in range (a+1):\n",
        "    yield 2**i\n",
        "\n",
        "print(list(power_of_2(5)))\n"
      ],
      "metadata": {
        "id": "vIMHyuzKdWE5"
      },
      "execution_count": null,
      "outputs": []
    },
    {
      "cell_type": "code",
      "source": [
        "# Use a lambda function in Python to sort a list of tuples based on the second element of each tuple.\n",
        "\n",
        "a = [(1,2), (9,11), (7,6)]\n",
        "sorted_data = sorted(a, key = lambda x:x[1])\n",
        "print(sorted_data)"
      ],
      "metadata": {
        "id": "zG2DvnWsd3iU"
      },
      "execution_count": null,
      "outputs": []
    },
    {
      "cell_type": "code",
      "source": [
        "#  Write a Python program that uses `map()` to convert a list of temperatures from Celsius to Fahrenheit.\n",
        "\n",
        "celsius_temps = [0, 20, 30, 37, 100]\n",
        "\n",
        "fahrenheit_temps = list(map(lambda c: (c * 9/5) + 32, celsius_temps))\n",
        "\n",
        "print(fahrenheit_temps)"
      ],
      "metadata": {
        "id": "wd9ePQbrd9b2"
      },
      "execution_count": null,
      "outputs": []
    },
    {
      "cell_type": "code",
      "source": [
        "#  Implement a generator function that reads a file line by line and yields each line as a string.\n",
        "\n",
        "def read_file_as_string(filename):\n",
        "    with open(filename, 'r', encoding='utf-8') as f:\n",
        "        yield from f\n",
        "\n",
        "print(list(read_file_as_string(\"Barkha.txt\")))\n",
        ""
      ],
      "metadata": {
        "id": "_j-BVV-2yqF8"
      },
      "execution_count": null,
      "outputs": []
    },
    {
      "cell_type": "code",
      "source": [
        "#  Create a Python program that uses `filter()` to remove all the vowels from a given string.\n",
        "\n",
        "def remove_vowels(s):\n",
        "    vowels = \"aeiouAEIOU\"\n",
        "    return \"\".join(filter(lambda ch: ch not in vowels, s))\n",
        "\n",
        "text = \"Hello, how are you?\"\n",
        "result = remove_vowels(text)\n",
        "\n",
        "print(result)\n",
        ""
      ],
      "metadata": {
        "id": "WamdzGo4eDFJ"
      },
      "execution_count": null,
      "outputs": []
    },
    {
      "cell_type": "code",
      "source": [
        "\"\"\"\n",
        "Imagine an accounting routine used in a book shop. It works on a list with sublists, which look like this:\n",
        " Write a Python program, which returns a list with 2-tuples. Each tuple consists of the order number and the\n",
        "product of the price per item and the quantity. The product should be increased by 10,- € if the value of the\n",
        "order is smaller than 100,00 €.\n",
        " Write a Python program using lambda and map\n",
        "\n",
        "\"\"\"\n",
        "orders = [\n",
        "    [34587, \"Learning python, mark lutz\", 4, 40.95],\n",
        "    [98762, \"Programming python, mark lutz\", 5, 56.80],\n",
        "    [77226, \"head first python, Paul barry\", 3, 32.95],\n",
        "    [88112, \"Einfuhrung in python3, Bernd kelin \", 1, 40.0]\n",
        "]\n",
        "\n",
        "final_orders = list(map(lambda x: (x[0], x[2] * x[3] + (10 if x[2] * x[3] < 100 else 0)), orders))\n",
        "\n",
        "print(final_orders)"
      ],
      "metadata": {
        "id": "0DL6OTlEeH7L"
      },
      "execution_count": null,
      "outputs": []
    },
    {
      "cell_type": "code",
      "source": [],
      "metadata": {
        "id": "klrLwFU7eXAa"
      },
      "execution_count": null,
      "outputs": []
    },
    {
      "cell_type": "markdown",
      "source": [
        "# Theory"
      ],
      "metadata": {
        "id": "V-WIs_jzeasK"
      }
    },
    {
      "cell_type": "code",
      "source": [
        "'''\n",
        "Note: For each theory Question, give at least one example.\n",
        "\n",
        " 1. What is the difference between a function and a method in Python?\n",
        "- Function: A function is defined independently using the def keyword and can be called on any data.\n",
        "- Method: A method is associated with an object and is called using dot notation (.)\n",
        "\n",
        "ex -\n",
        "- Function'''\n",
        "\n",
        "def greet(name):\n",
        "  return f\"Hello, {name}!\"\n",
        "\n",
        "print(greet(\"Alice\"))  # Calling a function"
      ],
      "metadata": {
        "id": "ei3_M3-7ecmF"
      },
      "execution_count": null,
      "outputs": []
    },
    {
      "cell_type": "code",
      "source": [
        "'''\n",
        " 2. Explain the concept of function arguments and parameters in Python.\n",
        " - Parameters: Variables in function definition.\n",
        "\n",
        "- Arguments: Actual values passed when calling the function.\n",
        "\n",
        "eg: '''\n",
        "\n",
        "def add(a, b):\n",
        "  return a + b\n",
        "\n",
        "print(add(5, 3))"
      ],
      "metadata": {
        "id": "W6Bok82geq6k"
      },
      "execution_count": null,
      "outputs": []
    },
    {
      "cell_type": "code",
      "source": [
        "'''\n",
        " 3. What are the different ways to define and call a function in Python?\n",
        "  - Positional Arguments\n",
        "  - Keyword Arguments\n",
        "  - Default Arguments\n",
        "  - Arbitrary Arguments (*args, **kwargs)\n",
        "\n",
        "  eg:'''\n",
        "\n",
        "def greet(name=\"Guest\"):\n",
        "  return f\"Hello, {name}!\"\n",
        "\n",
        "print(greet())\n",
        "print(greet(\"Alice\"))\n",
        "print(greet(name=\"Bob\"))"
      ],
      "metadata": {
        "id": "Klgnh-9Ee2nC"
      },
      "execution_count": null,
      "outputs": []
    },
    {
      "cell_type": "code",
      "source": [
        "'''\n",
        " 4. What is the purpose of the `return` statement in a Python function?\n",
        "   - return sends a value back to the caller.\n",
        "\n",
        "   eg: '''\n",
        "def square(n):\n",
        "  return n * n\n",
        "\n",
        "result = square(5)\n",
        "print(result)"
      ],
      "metadata": {
        "id": "4CW7sOsBe7fS"
      },
      "execution_count": null,
      "outputs": []
    },
    {
      "cell_type": "code",
      "source": [
        "'''\n",
        " 5. What are iterators in Python and how do they differ from iterables?\n",
        " - Iterable: An object that can return an iterator (list, tuple, set, etc.)\n",
        " - Iterator: An object that can be traversed using next().\n",
        " eg: '''\n",
        "\n",
        "numbers = [1, 2, 3]\n",
        "iterator = iter(numbers)\n",
        "\n",
        "print(next(iterator))\n",
        "print(next(iterator))"
      ],
      "metadata": {
        "id": "8UPHC354fAVV"
      },
      "execution_count": null,
      "outputs": []
    },
    {
      "cell_type": "code",
      "source": [
        "\n",
        "'''\n",
        " 6. Explain the concept of generators in Python and how they are defined.\n",
        "  - Generators are special functions that yield values instead of returning them all at once.\n",
        "\n",
        "eg: '''\n",
        "\n",
        "def count_up_to(n):\n",
        "  count = 1\n",
        "  while count <= n:\n",
        "    yield count\n",
        "    count += 1\n",
        "\n",
        "gen = count_up_to(3)\n",
        "print(next(gen))\n",
        "print(next(gen))"
      ],
      "metadata": {
        "id": "ECK0WQR3fD-o"
      },
      "execution_count": null,
      "outputs": []
    },
    {
      "cell_type": "code",
      "source": [
        "'''\n",
        " 7. What are the advantages of using generators over regular functions?\n",
        "  - Memory Efficiency : Generates values on demand.\n",
        "  - Lazy Evaluation : Doesn't compute all at once.\n",
        "  - Better Performance : Useful for large datasets.\n",
        "\n",
        "  eg: '''\n",
        "\n",
        "def infinite_numbers():\n",
        "  num = 1\n",
        "  while True:\n",
        "    yield num\n",
        "    num += 1\n",
        "\n",
        "gen = infinite_numbers()\n",
        "print(next(gen))\n",
        "print(next(gen))"
      ],
      "metadata": {
        "id": "hUx8GK-LfK58"
      },
      "execution_count": null,
      "outputs": []
    },
    {
      "cell_type": "code",
      "source": [
        "'''\n",
        " 8. What is a lambda function in Python and when is it typically used?\n",
        "- Lambda functions are anonymous, single-expression functions.\n",
        "\n",
        "  eg: '''\n",
        "\n",
        "square = lambda x: x * x\n",
        "print(square(5))"
      ],
      "metadata": {
        "id": "UDg8kZKHfTmx"
      },
      "execution_count": null,
      "outputs": []
    },
    {
      "cell_type": "code",
      "source": [
        "'''\n",
        " 9. Explain the purpose and usage of the `map()` function in Python.\n",
        "- map() applies a function to all elements in an iterable.\n",
        "\n",
        "  eg: '''\n",
        "\n",
        "numbers = [1, 2, 3, 4]\n",
        "squared = list(map(lambda x: x**2, numbers))\n",
        "print(squared)"
      ],
      "metadata": {
        "id": "_uMlaeRHfaz9"
      },
      "execution_count": null,
      "outputs": []
    },
    {
      "cell_type": "code",
      "source": [
        "# 10. What is the difference between `map()`, `reduce()`, and `filter()` functions in Python?\n",
        "\n",
        "# map(): Applies function to each element.\n",
        "#eg:\n",
        "a = map(lambda x: x*2, [1, 2, 3])\n",
        "print(a)\n",
        "\n",
        "# filter(): Filters elements based on condition.\n",
        "# eg:\n",
        "b =\tfilter(lambda x: x > 2, [1, 2, 3])\n",
        "print(b)\n",
        "\n",
        "#reduce(): Reduces iterable to a single value.\n",
        "#eg:\n",
        "from functools import reduce\n",
        "c = reduce(lambda x, y: x+y, [1, 2, 3])\n",
        "print(c)"
      ],
      "metadata": {
        "id": "-m9Jf0-CfeLL"
      },
      "execution_count": null,
      "outputs": []
    },
    {
      "cell_type": "code",
      "source": [
        "#11. Using pen & Paper write the internal mechanism for sum operation using  reduce function on this given list:[47,11,4"
      ],
      "metadata": {
        "id": "LWlolE_Bfmjl"
      },
      "execution_count": null,
      "outputs": []
    },
    {
      "cell_type": "code",
      "source": [],
      "metadata": {
        "id": "QJMofl_BftbR"
      },
      "execution_count": null,
      "outputs": []
    }
  ]
}